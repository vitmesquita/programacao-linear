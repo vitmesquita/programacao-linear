{
 "cells": [
  {
   "cell_type": "code",
   "execution_count": 1,
   "metadata": {},
   "outputs": [
    {
     "name": "stderr",
     "output_type": "stream",
     "text": [
      "┌ Info: Recompiling stale cache file C:\\Users\\vicml\\.julia\\compiled\\v1.0\\JuMP\\DmXqY.ji for JuMP [4076af6c-e467-56ae-b986-b466b2749572]\n",
      "└ @ Base loading.jl:1190\n"
     ]
    }
   ],
   "source": [
    "using JuMP"
   ]
  },
  {
   "cell_type": "code",
   "execution_count": 2,
   "metadata": {},
   "outputs": [
    {
     "name": "stderr",
     "output_type": "stream",
     "text": [
      "┌ Info: Recompiling stale cache file C:\\Users\\vicml\\.julia\\compiled\\v1.0\\GLPK\\r6CoY.ji for GLPK [60bf3e95-4087-53dc-ae20-288a0d20c6a6]\n",
      "└ @ Base loading.jl:1190\n"
     ]
    }
   ],
   "source": [
    "using GLPK"
   ]
  },
  {
   "cell_type": "markdown",
   "metadata": {},
   "source": [
    "### Questão 7"
   ]
  },
  {
   "cell_type": "markdown",
   "metadata": {},
   "source": [
    "<h4><b>The company C & O operates an oil pipeline pumping oil from Alberta to\n",
    "various states in the Northwestern USA. Figure 1.2 shows the direction of\n",
    "flow, four input lines, and the three output lines. Note for instance that State\n",
    "A can only get its oil from either Input 1 or from the Yukon input line.<b><h4>"
   ]
  },
  {
   "cell_type": "markdown",
   "metadata": {},
   "source": [
    "                                        Yukon  Input1   Input2   Input3\n",
    "                                         |       |        |         |\n",
    "                                        ---------------------------------->\n",
    "                                                      |        |        |\n",
    "                                                   StateA   StateB   StateC"
   ]
  },
  {
   "cell_type": "markdown",
   "metadata": {},
   "source": [
    "<h4><b>Each input line has a capacity (barrels/day) and a cost per barrel:<b><h4>"
   ]
  },
  {
   "cell_type": "markdown",
   "metadata": {},
   "source": [
    "| Input Lines         | 1    | 2    | 3    | Yukon |\n",
    "|---------------------|------|------|------|-------|\n",
    "| Capacity            | 4000 | 2000 | 3000 | 10000 |\n",
    "| Cost per barril ($) | 70   | 50   | 30   | 60    |"
   ]
  },
  {
   "cell_type": "markdown",
   "metadata": {},
   "source": [
    "<h4><b>Each state has a daily demand (barrels/day) that must be met exactly:<h4><b>"
   ]
  },
  {
   "cell_type": "markdown",
   "metadata": {},
   "source": [
    "| States | A    | B    | C    |\n",
    "|--------|------|------|------|\n",
    "| Demand | 3500 | 3000 | 4000 |"
   ]
  },
  {
   "cell_type": "markdown",
   "metadata": {},
   "source": [
    "<h4><b>The input from the Yukon is not owned by the company and activating that\n",
    "line has a fixed cost of $11 000 per day.\n",
    "Write an IP that plans the activities of the company C & O for a day (how\n",
    "many barrels of oil to pump from each input line) by minimizing the total\n",
    "daily cost of the company while meeting all the demand.<b><h4>"
   ]
  },
  {
   "cell_type": "markdown",
   "metadata": {},
   "source": [
    "### Resolução"
   ]
  },
  {
   "cell_type": "markdown",
   "metadata": {},
   "source": [
    "Primeiro criamos as variáveis de custo, limite e capacidade do problema"
   ]
  },
  {
   "cell_type": "code",
   "execution_count": 18,
   "metadata": {},
   "outputs": [
    {
     "data": {
      "text/plain": [
       "11000"
      ]
     },
     "execution_count": 18,
     "metadata": {},
     "output_type": "execute_result"
    }
   ],
   "source": [
    "demA = 3500\n",
    "demB = 3000\n",
    "demC = 4000\n",
    "\n",
    "lim1 = 4000\n",
    "lim2 = 2000\n",
    "lim3 = 3000\n",
    "limy = 10000\n",
    "\n",
    "custob1 = 70\n",
    "custob2 = 50\n",
    "custob3 = 30\n",
    "custoby = 60\n",
    "custoy = 11000"
   ]
  },
  {
   "cell_type": "markdown",
   "metadata": {},
   "source": [
    "Para modelar esse problema, criamos as variáveis $x_1,x_2,x_3,x_4$ inteiras correspondentes a quantidade de barris inputada pelas linhas 1,2,3 e de Yukon respectivamente. Além disso, temos a possibilidade de utilizar ou não a linha de Yukon, por isso, acrescentamos também uma variável binária y que assumirá valor 1 quando a pista de Yukon for utilizada ($x_4 > 0$) e valor 0 caso contrário."
   ]
  },
  {
   "cell_type": "markdown",
   "metadata": {},
   "source": [
    "Sabemos que queremos minimizar o custo total da distribuição, então nossa função objetivo é:"
   ]
  },
  {
   "cell_type": "markdown",
   "metadata": {},
   "source": [
    "$\n",
    "min \\qquad custob1 \\cdot x_1 + custob2 \\cdot x_2 + custob3 \\cdot x_3 + custob4 \\cdot x_4 + custoy \\cdot y\n",
    "$"
   ]
  },
  {
   "cell_type": "markdown",
   "metadata": {},
   "source": [
    "Para as restrições de limite, temos que cada linha tem um máximo de barris de capacidade, portanto temos que:"
   ]
  },
  {
   "cell_type": "markdown",
   "metadata": {},
   "source": [
    "$\n",
    "x_1 \\leq lim1\\\\\n",
    "x_2 \\leq lim2\\\\\n",
    "x_3 \\leq lim3\\\\\n",
    "x_4 \\leq lim4\n",
    "$"
   ]
  },
  {
   "cell_type": "markdown",
   "metadata": {},
   "source": [
    "Além disso, nos é informado que cada cidade tem que receber exatamente uma quantidade especificada de barris, o que nos leva a entender que quando o óleoduto passa por cada cidade i, é preciso que se tenha disponível uma quantidade de barris maior ou igual a demanda da cidade i. Dessa forma, temos que:"
   ]
  },
  {
   "cell_type": "markdown",
   "metadata": {},
   "source": [
    "$\n",
    "x_1 + x_4 \\geq demA \\\\\n",
    "(x_1+x_4-demA) + x_2 \\geq demB\\\\\n",
    "((x_1+x_4-demA)+x_2-demB)+x_3 \\geq demC\n",
    "$"
   ]
  },
  {
   "cell_type": "markdown",
   "metadata": {},
   "source": [
    "Agora, temos que pensar em uma maneira de modelar a variável y de forma que ela fique dependente do valor de $x_4$. Para isso utilizamos o valor de $\\frac{x_4}{limy}$ como limite inferior de y, pois essa métrica é 0 quando o valor de $x_4$ é 0 e assume um valor maior que 0 quando $x_4$ assume um valor maior que 0. Dessa forma, como temos definido que y é uma variável binária, ela assumirá o valor de 0 quando não tivermos barris vindos de Yukon e 1 caso contrário."
   ]
  },
  {
   "cell_type": "markdown",
   "metadata": {},
   "source": [
    "$\n",
    "y \\geq \\frac{x_4}{limy}\n",
    "$"
   ]
  },
  {
   "cell_type": "markdown",
   "metadata": {},
   "source": [
    "### Aplicando o Solver em Julia"
   ]
  },
  {
   "cell_type": "code",
   "execution_count": 19,
   "metadata": {},
   "outputs": [
    {
     "name": "stdout",
     "output_type": "stream",
     "text": [
      "Min 70 x[1] + 50 x[2] + 30 x[3] + 60 x[4] + 11000 y\n",
      "Subject to\n",
      " demanda_de_A : x[1] + x[4] >= 3500.0\n",
      " demanda_de_B : x[1] + x[2] + x[4] >= 6500.0\n",
      " demanda_de_C : x[1] + x[2] + x[3] + x[4] >= 10500.0\n",
      " limite_y : -0.0001 x[4] + y >= 0.0\n",
      " limite_yukon : x[4] <= 10000.0\n",
      " limite_1 : x[1] <= 4000.0\n",
      " limite_2 : x[2] <= 2000.0\n",
      " limite_3 : x[3] <= 3000.0\n",
      " x[1] >= 0.0\n",
      " x[2] >= 0.0\n",
      " x[3] >= 0.0\n",
      " x[4] >= 0.0\n",
      " y binary\n"
     ]
    }
   ],
   "source": [
    "# Modelo e Solver\n",
    "model = Model(GLPK.Optimizer)\n",
    "\n",
    "# Variaveis, canalizações (ou caixas) e tipo\n",
    "@variable(model,x[1:4]>=0)\n",
    "@variable(model,y,Bin)\n",
    "\n",
    "# Restrições\n",
    "@constraint(model,demanda_de_A,x[4] + x[1] >= demA)\n",
    "@constraint(model,demanda_de_B,(x[4] + x[1]-demA)+x[2]>=demB)\n",
    "@constraint(model,demanda_de_C,((x[4] + x[1]-demA)+x[2]-demB)+x[3]>=demC)\n",
    "@constraint(model,limite_yukon,x[4]<=limy)\n",
    "@constraint(model,limite_1,x[1]<=lim1)\n",
    "@constraint(model,limite_2,x[2]<=lim2)\n",
    "@constraint(model,limite_3,x[3]<=lim3)\n",
    "@constraint(model,limite_y,y>=x[4]/limy)\n",
    "\n",
    "# Função objetivo\n",
    "@objective(model,Min,custob1*x[1] + custob2*x[2] + custob3*x[3] + custoby*x[4] + custoy*y)\n",
    "\n",
    "print(model)"
   ]
  },
  {
   "cell_type": "code",
   "execution_count": 20,
   "metadata": {},
   "outputs": [],
   "source": [
    "optimize!(model)"
   ]
  },
  {
   "cell_type": "code",
   "execution_count": 21,
   "metadata": {},
   "outputs": [
    {
     "data": {
      "text/plain": [
       "OPTIMAL::TerminationStatusCode = 1"
      ]
     },
     "execution_count": 21,
     "metadata": {},
     "output_type": "execute_result"
    }
   ],
   "source": [
    "termination_status(model)"
   ]
  },
  {
   "cell_type": "code",
   "execution_count": 22,
   "metadata": {},
   "outputs": [
    {
     "data": {
      "text/plain": [
       "531000.0"
      ]
     },
     "execution_count": 22,
     "metadata": {},
     "output_type": "execute_result"
    }
   ],
   "source": [
    "objective_value(model)"
   ]
  },
  {
   "cell_type": "code",
   "execution_count": 23,
   "metadata": {},
   "outputs": [
    {
     "data": {
      "text/plain": [
       "4-element Array{Float64,1}:\n",
       "    0.0\n",
       " 2000.0\n",
       " 3000.0\n",
       " 5500.0"
      ]
     },
     "execution_count": 23,
     "metadata": {},
     "output_type": "execute_result"
    }
   ],
   "source": [
    "value.(x)"
   ]
  },
  {
   "cell_type": "code",
   "execution_count": 24,
   "metadata": {},
   "outputs": [
    {
     "data": {
      "text/plain": [
       "1.0"
      ]
     },
     "execution_count": 24,
     "metadata": {},
     "output_type": "execute_result"
    }
   ],
   "source": [
    "value(y)"
   ]
  },
  {
   "cell_type": "markdown",
   "metadata": {},
   "source": [
    "### RESPOSTA FINAL:"
   ]
  },
  {
   "cell_type": "markdown",
   "metadata": {},
   "source": [
    "                                        Yukon  Input1           Input2         Input3\n",
    "                                       (5500)   (0)             (2000)         (3000)\n",
    "                                         |       |       (2000)    |   (1000)    |\n",
    "                                        --------------------------------------------------->\n",
    "                                                      |              |                 |\n",
    "                                                   StateA          StateB            StateC\n",
    "                                                   (3500)          (3000)            (4000)"
   ]
  }
 ],
 "metadata": {
  "kernelspec": {
   "display_name": "Julia 1.0.5",
   "language": "julia",
   "name": "julia-1.0"
  },
  "language_info": {
   "file_extension": ".jl",
   "mimetype": "application/julia",
   "name": "julia",
   "version": "1.0.5"
  }
 },
 "nbformat": 4,
 "nbformat_minor": 4
}
