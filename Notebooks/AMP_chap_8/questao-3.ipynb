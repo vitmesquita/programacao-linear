{
 "cells": [
  {
   "cell_type": "markdown",
   "metadata": {},
   "source": [
    "The National Association of Securities Dealers Automated Quotation Systems (NASDAQ) is a network sys\u0002tem in which quotation information in over-the-counter operations is collected. Users of the system can re\u0002ceive, in a matter of seconds, buy and sell prices and the exact bid and ask price of each market maker that\n",
    "deals in a particular security. There are 1700 terminals in 1000 locations in almost 400 cities. The central\n",
    "processing center is in Trumbull, Conn., with concentration facilities in New York, Atlanta, Chicago, and San\n",
    "Francisco. On this particular day, the market is quiet, so there are only a few terminals being used. The in\u0002formation they have has to be sent to one of the main processing facilities. The following table gives termi\u0002nals (supply centers), processing facilities (demand centers), and the time that it takes to transfer a message"
   ]
  },
  {
   "cell_type": "markdown",
   "metadata": {},
   "source": [
    "| Terminals       | Trumbull | N.Y. | Atlanta | Chicago | San Francisco | Supply |\n",
    "|-----------------|----------|------|---------|---------|---------------|--------|\n",
    "| Cleveland       | 6        | 6    | 9       | 4       | 10            | 45     |\n",
    "| Boston          | 3        | 2    | 7       | 5       | 12            | 90     |\n",
    "| Houston         | 8        | 7    | 5       | 6       | 4             | 95     |\n",
    "| Los Angeles     | 11       | 12   | 9       | 5       | 2             | 75     |\n",
    "| Washington,D.C. | 4        | 3    | 4       | 5       | 11            | 105    |\n",
    "| Demand          | 120      | 80   | 50      | 75      | 85            |        |"
   ]
  },
  {
   "cell_type": "markdown",
   "metadata": {},
   "source": [
    "### A)"
   ]
  },
  {
   "cell_type": "markdown",
   "metadata": {},
   "source": [
    "Utilizando o método da matriz mínima temos, passo a passo:"
   ]
  },
  {
   "cell_type": "markdown",
   "metadata": {},
   "source": [
    "| Terminals       | Trumbull | N.Y. | Atlanta | Chicago | San Francisco | Supply |\n",
    "|-----------------|----------|------|---------|---------|---------------|--------|\n",
    "| Cleveland       | 6        | 6    | 9       | 4       | 10            | 45     |\n",
    "| Boston          | 3        | {80} | 7       | 5       | 12            | 10     |\n",
    "| Houston         | 8        | 7    | 5       | 6       | 4             | 95     |\n",
    "| Los Angeles     | 11       | 12   | 9       | 5       | 2             | 75     |\n",
    "| Washington,D.C. | 4        | 3    | 4       | 5       | 11            | 105    |\n",
    "| Demand          | 120      | 00   | 50      | 75      | 85            |        |"
   ]
  },
  {
   "cell_type": "markdown",
   "metadata": {},
   "source": [
    "| Terminals       | Trumbull | N.Y. | Atlanta | Chicago | San Francisco | Supply |\n",
    "|-----------------|----------|------|---------|---------|---------------|--------|\n",
    "| Cleveland       | 6        | 6    | 9       | 4       | 10            | 45     |\n",
    "| Boston          | 3        | {80} | 7       | 5       | 12            | 10     |\n",
    "| Houston         | 8        | 7    | 5       | 6       | 4             | 95     |\n",
    "| Los Angeles     | 11       | 12   | 9       | 5       | {75}          | 00     |\n",
    "| Washington,D.C. | 4        | 3    | 4       | 5       | 11            | 105    |\n",
    "| Demand          | 120      | 00   | 50      | 75      | 10            |        |"
   ]
  },
  {
   "cell_type": "markdown",
   "metadata": {},
   "source": [
    "| Terminals       | Trumbull | N.Y. | Atlanta | Chicago | San Francisco | Supply |\n",
    "|-----------------|----------|------|---------|---------|---------------|--------|\n",
    "| Cleveland       | 6        | 6    | 9       | 4       | 10            | 45     |\n",
    "| Boston          | {10}     | {80} | 7       | 5       | 12            | 00     |\n",
    "| Houston         | 8        | 7    | 5       | 6       | 4             | 95     |\n",
    "| Los Angeles     | 11       | 12   | 9       | 5       | {75}          | 00     |\n",
    "| Washington,D.C. | 4        | 3    | 4       | 5       | 11            | 105    |\n",
    "| Demand          | 110      | 00   | 50      | 75      | 10            |        |"
   ]
  },
  {
   "cell_type": "markdown",
   "metadata": {},
   "source": [
    "| Terminals       | Trumbull | N.Y. | Atlanta | Chicago | San Francisco | Supply |\n",
    "|-----------------|----------|------|---------|---------|---------------|--------|\n",
    "| Cleveland       | 6        | 6    | 9       | {45}    | 10            | 00     |\n",
    "| Boston          | {10}     | {80} | 7       | 5       | 12            | 00     |\n",
    "| Houston         | 8        | 7    | 5       | 6       | 4             | 95     |\n",
    "| Los Angeles     | 11       | 12   | 9       | 5       | {75}          | 00     |\n",
    "| Washington,D.C. | 4        | 3    | 4       | 5       | 11            | 105    |\n",
    "| Demand          | 110      | 00   | 50      | 30      | 10            |        |"
   ]
  },
  {
   "cell_type": "markdown",
   "metadata": {},
   "source": [
    "| Terminals       | Trumbull | N.Y. | Atlanta | Chicago | San Francisco | Supply |\n",
    "|-----------------|----------|------|---------|---------|---------------|--------|\n",
    "| Cleveland       | 6        | 6    | 9       | {45}    | 10            | 00     |\n",
    "| Boston          | {10}     | {80} | 7       | 5       | 12            | 00     |\n",
    "| Houston         | 8        | 7    | 5       | 6       | 4             | 95     |\n",
    "| Los Angeles     | 11       | 12   | 9       | 5       | {75}          | 00     |\n",
    "| Washington,D.C. | 4        | 3    | {50}    | 5       | 11            | 55     |\n",
    "| Demand          | 110      | 00   | 00      | 30      | 10            |        |"
   ]
  },
  {
   "cell_type": "markdown",
   "metadata": {},
   "source": [
    "| Terminals       | Trumbull | N.Y. | Atlanta | Chicago | San Francisco | Supply |\n",
    "|-----------------|----------|------|---------|---------|---------------|--------|\n",
    "| Cleveland       | 6        | 6    | 9       | {45}    | 10            | 00     |\n",
    "| Boston          | {10}     | {80} | 7       | 5       | 12            | 00     |\n",
    "| Houston         | 8        | 7    | 5       | 6       | {10}          | 85     |\n",
    "| Los Angeles     | 11       | 12   | 9       | 5       | {75}          | 00     |\n",
    "| Washington,D.C. | 4        | 3    | {50}    | 5       | 11            | 55     |\n",
    "| Demand          | 110      | 00   | 00      | 30      | 00            |        |"
   ]
  },
  {
   "cell_type": "markdown",
   "metadata": {},
   "source": [
    "| Terminals       | Trumbull | N.Y. | Atlanta | Chicago | San Francisco | Supply |\n",
    "|-----------------|----------|------|---------|---------|---------------|--------|\n",
    "| Cleveland       | 6        | 6    | 9       | {45}    | 10            | 00     |\n",
    "| Boston          | {10}     | {80} | 7       | 5       | 12            | 00     |\n",
    "| Houston         | 8        | 7    | 5       | 6       | {10}          | 85     |\n",
    "| Los Angeles     | 11       | 12   | 9       | 5       | {75}          | 00     |\n",
    "| Washington,D.C. | {55}     | 3    | {50}    | 5       | 11            | 00     |\n",
    "| Demand          | 55       | 00   | 00      | 30      | 00            |        |"
   ]
  },
  {
   "cell_type": "markdown",
   "metadata": {},
   "source": [
    "| Terminals       | Trumbull | N.Y. | Atlanta | Chicago | San Francisco | Supply |\n",
    "|-----------------|----------|------|---------|---------|---------------|--------|\n",
    "| Cleveland       | 6        | 6    | 9       | {45}    | 10            | 00     |\n",
    "| Boston          | {10}     | {80} | 7       | 5       | 12            | 00     |\n",
    "| Houston         | 8        | 7    | 5       | {30}    | {10}          | 55     |\n",
    "| Los Angeles     | 11       | 12   | 9       | 5       | {75}          | 00     |\n",
    "| Washington,D.C. | {55}     | 3    | {50}    | 5       | 11            | 00     |\n",
    "| Demand          | 55       | 00   | 00      | 00      | 00            |        |"
   ]
  },
  {
   "cell_type": "markdown",
   "metadata": {},
   "source": [
    "| Terminals       | Trumbull | N.Y. | Atlanta | Chicago | San Francisco | Supply |\n",
    "|-----------------|----------|------|---------|---------|---------------|--------|\n",
    "| Cleveland       |          |      |         | {45}    |               | 00     |\n",
    "| Boston          | {10}     | {80} |         |         |               | 00     |\n",
    "| Houston         | {55}     |      |         | {30}    | {10}          | 00     |\n",
    "| Los Angeles     |          |      |         |         | {75}          | 00     |\n",
    "| Washington,D.C. | {55}     |      | {50}    |         |               | 00     |\n",
    "| Demand          | 00       | 00   | 00      | 00      | 00            |        |"
   ]
  },
  {
   "cell_type": "code",
   "execution_count": 5,
   "metadata": {
    "scrolled": false
   },
   "outputs": [
    {
     "data": {
      "text/plain": [
       "1600"
      ]
     },
     "execution_count": 5,
     "metadata": {},
     "output_type": "execute_result"
    }
   ],
   "source": [
    "3*10+55*8+55*4 + 80*2 + 50*4 + 45*4+30*6 + 4*10+75*2"
   ]
  },
  {
   "cell_type": "markdown",
   "metadata": {},
   "source": [
    "### B)"
   ]
  },
  {
   "cell_type": "markdown",
   "metadata": {},
   "source": [
    "| Terminals       | Trumbull | N.Y. | Atlanta | Chicago | San Francisco | Supply |\n",
    "|-----------------|----------|------|---------|---------|---------------|--------|\n",
    "| Cleveland       | 6        | 6    | 9       | 4       | 10            | 45     |\n",
    "| Boston          | 3        | 2    | 7       | 5       | 12            | 90     |\n",
    "| Houston         | 8        | 7    | 5       | 6       | 4             | 95     |\n",
    "| Los Angeles     | 11       | 12   | 9       | 5       | 2             | 75     |\n",
    "| Washington,D.C. | 4        | 3    | 4       | 5       | 11            | 105    |\n",
    "| Demand          | 120      | 80   | 50      | 75      | 85            |        |"
   ]
  },
  {
   "cell_type": "markdown",
   "metadata": {},
   "source": [
    "| Terminals       | Trumbull | N.Y. | Atlanta | Chicago | San Francisco | Supply |\n",
    "|-----------------|----------|------|---------|---------|---------------|--------|\n",
    "| Cleveland       | 6        | 6    | 9       | 4       | 10            | 45     |\n",
    "| Boston          | 3        | 2    | 7       | 5       | 12            | 90     |\n",
    "| Houston         | 8        | 7    | 5       | 6       | 4             | 95     |\n",
    "| Los Angeles     | 11       | 12   | 9       | 5       | {75}          | 00     |\n",
    "| Washington,D.C. | 4        | 3    | 4       | 5       | 11            | 105    |\n",
    "| Demand          | 120      | 80   | 50      | 75      | 10            |        |"
   ]
  },
  {
   "cell_type": "markdown",
   "metadata": {},
   "source": [
    "| Terminals       | Trumbull | N.Y. | Atlanta | Chicago | San Francisco | Supply |\n",
    "|-----------------|----------|------|---------|---------|---------------|--------|\n",
    "| Cleveland       | 6        | 6    | 9       | 4       | 10            | 45     |\n",
    "| Boston          | 3        | {80} | 7       | 5       | 12            | 10     |\n",
    "| Houston         | 8        | 7    | 5       | 6       | 4             | 95     |\n",
    "| Los Angeles     | 11       | 12   | 9       | 5       | {75}          | 00     |\n",
    "| Washington,D.C. | 4        | 3    | 4       | 5       | 11            | 105    |\n",
    "| Demand          | 120      | 00   | 50      | 75      | 10            |        |"
   ]
  },
  {
   "cell_type": "markdown",
   "metadata": {},
   "source": [
    "| Terminals       | Trumbull | N.Y. | Atlanta | Chicago | San Francisco | Supply |\n",
    "|-----------------|----------|------|---------|---------|---------------|--------|\n",
    "| Cleveland       | 6        | 6    | 9       | 4       | 10            | 45     |\n",
    "| Boston          | {10}     | {80} | 7       | 5       | 12            | 00     |\n",
    "| Houston         | 8        | 7    | 5       | 6       | 4             | 95     |\n",
    "| Los Angeles     | 11       | 12   | 9       | 5       | {75}          | 00     |\n",
    "| Washington,D.C. | 4        | 3    | 4       | 5       | 11            | 105    |\n",
    "| Demand          | 110      | 00   | 50      | 75      | 10            |        |"
   ]
  },
  {
   "cell_type": "markdown",
   "metadata": {},
   "source": [
    "| Terminals       | Trumbull | N.Y. | Atlanta | Chicago | San Francisco | Supply |\n",
    "|-----------------|----------|------|---------|---------|---------------|--------|\n",
    "| Cleveland       | 6        | 6    | 9       | 4       | 10            | 45     |\n",
    "| Boston          | {10}     | {80} | 7       | 5       | 12            | 00     |\n",
    "| Houston         | 8        | 7    | 5       | 6       | 4             | 95     |\n",
    "| Los Angeles     | 11       | 12   | 9       | 5       | {75}          | 00     |\n",
    "| Washington,D.C. | {105}    |      | 4       | 5       | 11            | 00     |\n",
    "| Demand          | 5        | 00   | 50      | 75      | 10            |        |"
   ]
  },
  {
   "cell_type": "markdown",
   "metadata": {},
   "source": [
    "| Terminals       | Trumbull | N.Y. | Atlanta | Chicago | San Francisco | Supply |\n",
    "|-----------------|----------|------|---------|---------|---------------|--------|\n",
    "| Cleveland       | 6        | 6    | 9       | {45}    | 10            | 00     |\n",
    "| Boston          | {10}     | {80} | 7       | 5       | 12            | 00     |\n",
    "| Houston         | 8        | 7    | 5       | 6       | 4             | 95     |\n",
    "| Los Angeles     | 11       | 12   | 9       | 5       | {75}          | 00     |\n",
    "| Washington,D.C. | {105}    |      | 4       | 5       | 11            | 00     |\n",
    "| Demand          | 5        | 00   | 50      | 30      | 10            |        |"
   ]
  },
  {
   "cell_type": "markdown",
   "metadata": {},
   "source": [
    "| Terminals       | Trumbull | N.Y. | Atlanta | Chicago | San Francisco | Supply |\n",
    "|-----------------|----------|------|---------|---------|---------------|--------|\n",
    "| Cleveland       | 6        | 6    | 9       | {45}    | 10            | 00     |\n",
    "| Boston          | {10}     | {80} | 7       | 5       | 12            | 00     |\n",
    "| Houston         | 8        | 7    | 5       | 6       | {10}          | 85     |\n",
    "| Los Angeles     | 11       | 12   | 9       | 5       | {75}          | 00     |\n",
    "| Washington,D.C. | {105}    |      |         | 5       | 11            | 00     |\n",
    "| Demand          | 5        | 00   | 50      | 30      | 00            |        |"
   ]
  },
  {
   "cell_type": "markdown",
   "metadata": {},
   "source": [
    "| Terminals       | Trumbull | N.Y. | Atlanta | Chicago | San Francisco | Supply |\n",
    "|-----------------|----------|------|---------|---------|---------------|--------|\n",
    "| Cleveland       | 6        | 6    | 9       | {45}    | 10            | 00     |\n",
    "| Boston          | {10}     | {80} | 7       | 5       | 12            | 00     |\n",
    "| Houston         | 8        | 7    | {50}    | 6       | {10}          | 35     |\n",
    "| Los Angeles     | 11       | 12   | 9       | 5       | {75}          | 00     |\n",
    "| Washington,D.C. | {105}    |      |         | 5       | 11            | 00     |\n",
    "| Demand          | 5        | 00   | 00      | 30      | 00            |        |"
   ]
  },
  {
   "cell_type": "markdown",
   "metadata": {},
   "source": [
    "| Terminals       | Trumbull | N.Y. | Atlanta | Chicago | San Francisco | Supply |\n",
    "|-----------------|----------|------|---------|---------|---------------|--------|\n",
    "| Cleveland       | 6        | 6    | 9       | {45}    | 10            | 00     |\n",
    "| Boston          | {10}     | {80} | 7       | 5       | 12            | 00     |\n",
    "| Houston         | 8        | 7    | {50}    | {30}    | {10}          | 05     |\n",
    "| Los Angeles     | 11       | 12   | 9       | 5       | {75}          | 00     |\n",
    "| Washington,D.C. | {105}    |      |         | 5       | 11            | 00     |\n",
    "| Demand          | 5        | 00   | 00      | 00      | 00            |        |"
   ]
  },
  {
   "cell_type": "markdown",
   "metadata": {},
   "source": [
    "| Terminals       | Trumbull | N.Y. | Atlanta | Chicago | San Francisco | Supply |\n",
    "|-----------------|----------|------|---------|---------|---------------|--------|\n",
    "| Cleveland       |          |      |         | {45}    |               | 00     |\n",
    "| Boston          | {10}     | {80} |         |         |               | 00     |\n",
    "| Houston         | {5}      |      | {50}    | {30}    | {10}          | 00     |\n",
    "| Los Angeles     |          |      |         |         | {75}          | 00     |\n",
    "| Washington,D.C. | {105}    |      |         |         |               | 00     |\n",
    "| Demand          | 00       | 00   | 00      | 00      | 00            |        |"
   ]
  },
  {
   "cell_type": "code",
   "execution_count": 4,
   "metadata": {},
   "outputs": [
    {
     "data": {
      "text/plain": [
       "1450"
      ]
     },
     "execution_count": 4,
     "metadata": {},
     "output_type": "execute_result"
    }
   ],
   "source": [
    "10*3+5*8+105*4 + 80*2 + 50*5 + 45*4+30*6 + 10*4+75*2"
   ]
  }
 ],
 "metadata": {
  "kernelspec": {
   "display_name": "Python 3",
   "language": "python",
   "name": "python3"
  },
  "language_info": {
   "codemirror_mode": {
    "name": "ipython",
    "version": 3
   },
   "file_extension": ".py",
   "mimetype": "text/x-python",
   "name": "python",
   "nbconvert_exporter": "python",
   "pygments_lexer": "ipython3",
   "version": "3.8.3"
  }
 },
 "nbformat": 4,
 "nbformat_minor": 4
}
