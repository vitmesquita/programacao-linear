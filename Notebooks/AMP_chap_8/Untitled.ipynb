{
 "cells": [
  {
   "cell_type": "code",
   "execution_count": 1,
   "metadata": {},
   "outputs": [],
   "source": [
    "using JuMP"
   ]
  },
  {
   "cell_type": "code",
   "execution_count": 2,
   "metadata": {},
   "outputs": [],
   "source": [
    "using GLPK"
   ]
  },
  {
   "cell_type": "code",
   "execution_count": 4,
   "metadata": {},
   "outputs": [
    {
     "name": "stdout",
     "output_type": "stream",
     "text": [
      "Min 7 Q[1,1] + Q[2,1] + 9 Q[3,1] + 11 Q[1,2] + 6 Q[2,2] + 15 Q[3,2] + 3 Q[1,3] + 8 Q[3,3] + 2 Q[1,4] + Q[2,4] + 5 Q[3,4]\n",
      "Subject to\n",
      " conD[1] : Q[1,1] + Q[2,1] + Q[3,1] == 2.0\n",
      " conD[2] : Q[1,2] + Q[2,2] + Q[3,2] == 3.0\n",
      " conD[3] : Q[1,3] + Q[2,3] + Q[3,3] == 5.0\n",
      " conD[4] : Q[1,4] + Q[2,4] + Q[3,4] == 7.0\n",
      " conC[1] : Q[1,1] + Q[1,2] + Q[1,3] + Q[1,4] == 6.0\n",
      " conC[2] : Q[2,1] + Q[2,2] + Q[2,3] + Q[2,4] == 1.0\n",
      " conC[3] : Q[3,1] + Q[3,2] + Q[3,3] + Q[3,4] == 10.0\n",
      " Q[1,1] integer\n",
      " Q[2,1] integer\n",
      " Q[3,1] integer\n",
      " Q[1,2] integer\n",
      " Q[2,2] integer\n",
      " Q[3,2] integer\n",
      " Q[1,3] integer\n",
      " Q[2,3] integer\n",
      " Q[3,3] integer\n",
      " Q[1,4] integer\n",
      " Q[2,4] integer\n",
      " Q[3,4] integer\n"
     ]
    }
   ],
   "source": [
    "# Modelo e Solver\n",
    "model2 = Model(GLPK.Optimizer)\n",
    "\n",
    "#Distâncias entre filiais e os destinos \n",
    "D = [7 11 3 2; 1 6 0 1; 9 15 8 5]\n",
    "\n",
    "#Demanda de carros em cada um dos destinos\n",
    "de = [2 3 5 7]\n",
    "\n",
    "#Carros disponíveis em cada filial\n",
    "c = [6 1 10]\n",
    "\n",
    "# Variaveis\n",
    "@variable(model2, Q[1:3, 1:4], Int)\n",
    "\n",
    "\n",
    "# Restrições\n",
    "@constraint(model2, conD[i = 1:4], sum(Q[:, i]) == de[i])\n",
    "@constraint(model2, conC[i = 1:3], sum(Q[i, :]) == c[i])\n",
    "\n",
    "# Função objetivo\n",
    "@objective(model2, Min, sum(D.*Q))\n",
    "\n",
    "print(model2)"
   ]
  },
  {
   "cell_type": "code",
   "execution_count": 5,
   "metadata": {},
   "outputs": [],
   "source": [
    "optimize!(model2)"
   ]
  },
  {
   "cell_type": "code",
   "execution_count": 7,
   "metadata": {},
   "outputs": [
    {
     "ename": "MathOptInterface.ResultIndexBoundsError{MathOptInterface.ObjectiveValue}",
     "evalue": "\u001b[91mResult index of attribute MathOptInterface.ObjectiveValue(1) out of bounds. There are currently 0 solution(s) in the model.\u001b[39m",
     "output_type": "error",
     "traceback": [
      "\u001b[91mResult index of attribute MathOptInterface.ObjectiveValue(1) out of bounds. There are currently 0 solution(s) in the model.\u001b[39m",
      "",
      "Stacktrace:",
      " [1] check_result_index_bounds at C:\\Users\\vicml\\.julia\\packages\\MathOptInterface\\5WwpK\\src\\attributes.jl:139 [inlined]",
      " [2] get at C:\\Users\\vicml\\.julia\\packages\\GLPK\\OMgPz\\src\\MOI_wrapper\\MOI_wrapper.jl:1820 [inlined]",
      " [3] get(::MathOptInterface.Bridges.LazyBridgeOptimizer{GLPK.Optimizer}, ::MathOptInterface.ObjectiveValue) at C:\\Users\\vicml\\.julia\\packages\\MathOptInterface\\5WwpK\\src\\Bridges\\bridge_optimizer.jl:816",
      " [4] get(::MathOptInterface.Utilities.CachingOptimizer{MathOptInterface.AbstractOptimizer,MathOptInterface.Utilities.UniversalFallback{MathOptInterface.Utilities.Model{Float64}}}, ::MathOptInterface.ObjectiveValue) at C:\\Users\\vicml\\.julia\\packages\\MathOptInterface\\5WwpK\\src\\Utilities\\cachingoptimizer.jl:706",
      " [5] _moi_get_result(::MathOptInterface.Utilities.CachingOptimizer{MathOptInterface.AbstractOptimizer,MathOptInterface.Utilities.UniversalFallback{MathOptInterface.Utilities.Model{Float64}}}, ::MathOptInterface.ObjectiveValue) at C:\\Users\\vicml\\.julia\\packages\\JuMP\\y5vgk\\src\\JuMP.jl:946",
      " [6] get(::Model, ::MathOptInterface.ObjectiveValue) at C:\\Users\\vicml\\.julia\\packages\\JuMP\\y5vgk\\src\\JuMP.jl:959",
      " [7] #objective_value#37(::Int64, ::Function, ::Model) at C:\\Users\\vicml\\.julia\\packages\\JuMP\\y5vgk\\src\\objective.jl:42",
      " [8] objective_value(::Model) at C:\\Users\\vicml\\.julia\\packages\\JuMP\\y5vgk\\src\\objective.jl:42",
      " [9] top-level scope at In[7]:1"
     ]
    }
   ],
   "source": [
    "objective_value(model2)"
   ]
  },
  {
   "cell_type": "code",
   "execution_count": null,
   "metadata": {},
   "outputs": [],
   "source": []
  }
 ],
 "metadata": {
  "kernelspec": {
   "display_name": "Julia 1.0.5",
   "language": "julia",
   "name": "julia-1.0"
  },
  "language_info": {
   "file_extension": ".jl",
   "mimetype": "application/julia",
   "name": "julia",
   "version": "1.0.5"
  }
 },
 "nbformat": 4,
 "nbformat_minor": 4
}
