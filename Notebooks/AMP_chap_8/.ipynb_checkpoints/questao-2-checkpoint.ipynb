{
 "cells": [
  {
   "cell_type": "code",
   "execution_count": 1,
   "metadata": {},
   "outputs": [],
   "source": [
    "using JuMP"
   ]
  },
  {
   "cell_type": "code",
   "execution_count": 2,
   "metadata": {},
   "outputs": [],
   "source": [
    "using GLPK"
   ]
  },
  {
   "cell_type": "markdown",
   "metadata": {},
   "source": [
    "### Questão 2"
   ]
  },
  {
   "cell_type": "markdown",
   "metadata": {},
   "source": [
    "On a particular day during the tourist season a rent-a-car company must supply cars to four destinations according\n",
    "to the following schedule:"
   ]
  },
  {
   "cell_type": "markdown",
   "metadata": {},
   "source": [
    "| Destination | Cars required |\n",
    "|-------------|---------------|\n",
    "| A           | 2             |\n",
    "| B           | 3             |\n",
    "| C           | 5             |\n",
    "| D           | 7             |"
   ]
  },
  {
   "cell_type": "markdown",
   "metadata": {},
   "source": [
    "The company has three branches from which the cars may be supplied. On the day in question, the inventory status\n",
    "of each of the branches was as follows:"
   ]
  },
  {
   "cell_type": "markdown",
   "metadata": {},
   "source": [
    "| Branch | Cars avaliable |\n",
    "|--------|----------------|\n",
    "| 1      | 6              |\n",
    "| 2      | 1              |\n",
    "| 3      | 10             |"
   ]
  },
  {
   "cell_type": "markdown",
   "metadata": {},
   "source": [
    "The distances between branches and destinations are given by the following table:"
   ]
  },
  {
   "cell_type": "markdown",
   "metadata": {},
   "source": [
    "| Branch | A | B  | C | D |\n",
    "|--------|---|----|---|---|\n",
    "| 1      | 7 | 11 | 3 | 2 |\n",
    "| 2      | 1 | 6  | 0 | 1 |\n",
    "| 3      | 9 | 15 | 8 | 5 |"
   ]
  },
  {
   "cell_type": "markdown",
   "metadata": {},
   "source": [
    "Plan the day’s activity such that supply requirements are met at a minimum cost (assumed proportional to car-miles\n",
    "travelled)."
   ]
  },
  {
   "cell_type": "markdown",
   "metadata": {},
   "source": [
    "### Resolução"
   ]
  },
  {
   "cell_type": "markdown",
   "metadata": {},
   "source": [
    "Sabemos que as condições são que, todos os destinos tem que receber a quantidade de carros necessária e cada \"Branch\" terá um máximo de carros disponíveis para transporte.Além disso, temos a informação de distância dos \"Branch\" e destinos finais. Dessa forma, criamos as variáveis:"
   ]
  },
  {
   "cell_type": "code",
   "execution_count": 7,
   "metadata": {},
   "outputs": [
    {
     "data": {
      "text/plain": [
       "5"
      ]
     },
     "execution_count": 7,
     "metadata": {},
     "output_type": "execute_result"
    }
   ],
   "source": [
    "demA = 2\n",
    "demB = 3\n",
    "demC = 5\n",
    "demD = 7\n",
    "\n",
    "max1 = 6\n",
    "max2 = 1\n",
    "max3 = 10\n",
    "\n",
    "custo1a = 7\n",
    "custo1b = 11\n",
    "custo1c = 3\n",
    "custo1d = 2\n",
    "\n",
    "custo2a = 1\n",
    "custo2b = 6\n",
    "custo2c = 0\n",
    "custo2d = 1\n",
    "\n",
    "custo3a = 9\n",
    "custo3b = 15\n",
    "custo3c = 8\n",
    "custo3d = 5"
   ]
  },
  {
   "cell_type": "markdown",
   "metadata": {},
   "source": [
    "Para modelar este problema, criamos as variáveis $x_{ij}$ sendo i=1,2,3 e j=A,B,C,D que correspondem a quantidade de carros que saiu de i com destino a j. Sabemos que todas essas variáveis são inteiras e queremos minimizar o custo total de transporte (supondo que este seja proporcional a distância percorrida)"
   ]
  },
  {
   "cell_type": "markdown",
   "metadata": {},
   "source": [
    "Portanto, temos:"
   ]
  },
  {
   "cell_type": "markdown",
   "metadata": {},
   "source": [
    "min $\\sum_{j=A}^{D} \\sum_{i=1}^{3} x_{ij}\\cdot custo_{ij}$"
   ]
  },
  {
   "cell_type": "code",
   "execution_count": 7,
   "metadata": {},
   "outputs": [
    {
     "name": "stdout",
     "output_type": "stream",
     "text": [
      "Min 7 Q[1,1] + Q[2,1] + 9 Q[3,1] + 11 Q[1,2] + 6 Q[2,2] + 15 Q[3,2] + 3 Q[1,3] + 8 Q[3,3] + 2 Q[1,4] + Q[2,4] + 5 Q[3,4]\n",
      "Subject to\n",
      " conD[1] : Q[1,1] + Q[2,1] + Q[3,1] == 2.0\n",
      " conD[2] : Q[1,2] + Q[2,2] + Q[3,2] == 3.0\n",
      " conD[3] : Q[1,3] + Q[2,3] + Q[3,3] == 5.0\n",
      " conD[4] : Q[1,4] + Q[2,4] + Q[3,4] == 7.0\n",
      " conC[1] : Q[1,1] + Q[1,2] + Q[1,3] + Q[1,4] <= 6.0\n",
      " conC[2] : Q[2,1] + Q[2,2] + Q[2,3] + Q[2,4] <= 1.0\n",
      " conC[3] : Q[3,1] + Q[3,2] + Q[3,3] + Q[3,4] <= 10.0\n",
      " Q[1,1] >= 0.0\n",
      " Q[2,1] >= 0.0\n",
      " Q[3,1] >= 0.0\n",
      " Q[1,2] >= 0.0\n",
      " Q[2,2] >= 0.0\n",
      " Q[3,2] >= 0.0\n",
      " Q[1,3] >= 0.0\n",
      " Q[2,3] >= 0.0\n",
      " Q[3,3] >= 0.0\n",
      " Q[1,4] >= 0.0\n",
      " Q[2,4] >= 0.0\n",
      " Q[3,4] >= 0.0\n",
      " Q[1,1] integer\n",
      " Q[2,1] integer\n",
      " Q[3,1] integer\n",
      " Q[1,2] integer\n",
      " Q[2,2] integer\n",
      " Q[3,2] integer\n",
      " Q[1,3] integer\n",
      " Q[2,3] integer\n",
      " Q[3,3] integer\n",
      " Q[1,4] integer\n",
      " Q[2,4] integer\n",
      " Q[3,4] integer\n"
     ]
    }
   ],
   "source": [
    "# Modelo e Solver\n",
    "model2 = Model(GLPK.Optimizer)\n",
    "\n",
    "#Distâncias entre filiais e os destinos \n",
    "D = [7 11 3 2; 1 6 0 1; 9 15 8 5]\n",
    "\n",
    "#Demanda de carros em cada um dos destinos\n",
    "de = [2 3 5 7]\n",
    "\n",
    "#Carros disponíveis em cada filial\n",
    "c = [6 1 10]\n",
    "\n",
    "# Variaveis\n",
    "@variable(model2, Q[1:3, 1:4]>=0, Int)\n",
    "\n",
    "\n",
    "# Restrições\n",
    "@constraint(model2, conD[i = 1:4], sum(Q[:, i]) == de[i])\n",
    "@constraint(model2, conC[i = 1:3], sum(Q[i, :]) <= c[i])\n",
    "\n",
    "# Função objetivo\n",
    "@objective(model2, Min, sum(D.*Q))\n",
    "\n",
    "print(model2)"
   ]
  },
  {
   "cell_type": "code",
   "execution_count": 8,
   "metadata": {},
   "outputs": [],
   "source": [
    "optimize!(model2)"
   ]
  },
  {
   "cell_type": "code",
   "execution_count": 9,
   "metadata": {},
   "outputs": [
    {
     "data": {
      "text/plain": [
       "100.0"
      ]
     },
     "execution_count": 9,
     "metadata": {},
     "output_type": "execute_result"
    }
   ],
   "source": [
    "objective_value(model2)"
   ]
  },
  {
   "cell_type": "code",
   "execution_count": 10,
   "metadata": {},
   "outputs": [
    {
     "data": {
      "text/plain": [
       "3×4 Array{Float64,2}:\n",
       " 0.0  1.0  5.0  0.0\n",
       " 0.0  1.0  0.0  0.0\n",
       " 2.0  1.0  0.0  7.0"
      ]
     },
     "execution_count": 10,
     "metadata": {},
     "output_type": "execute_result"
    }
   ],
   "source": [
    "value.(Q)"
   ]
  }
 ],
 "metadata": {
  "kernelspec": {
   "display_name": "Julia 1.0.5",
   "language": "julia",
   "name": "julia-1.0"
  },
  "language_info": {
   "file_extension": ".jl",
   "mimetype": "application/julia",
   "name": "julia",
   "version": "1.0.5"
  }
 },
 "nbformat": 4,
 "nbformat_minor": 4
}
