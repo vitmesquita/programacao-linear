{
 "cells": [
  {
   "cell_type": "markdown",
   "metadata": {},
   "source": [
    "## Questão 15"
   ]
  },
  {
   "cell_type": "markdown",
   "metadata": {},
   "source": [
    "#### A distributing company has two major customers and three supply sources. The corresponding unit from each supply center to each customer is given in the following table, together with the total customer requirements and supply availabilities.\n"
   ]
  },
  {
   "cell_type": "markdown",
   "metadata": {},
   "source": [
    "| Supply Center         | 1   | 2   | Available Supplies |\n",
    "|-----------------------|-----|-----|--------------------|\n",
    "| 1                     | -1  | 3   | 300                |\n",
    "| 2                     | 1   | 6   | 400                |\n",
    "| 3                     | 1   | 5   | 900                |\n",
    "| Customer requirements | 800 | 500 |                    |"
   ]
  },
  {
   "cell_type": "markdown",
   "metadata": {},
   "source": [
    "#### Note that Customer 1 has strong preferences for Supplier 1 AND will be willing not only to absorb all the transportation costs but also to pay a premium price of $1 per unit of product coming from Supplier 1.\n"
   ]
  },
  {
   "cell_type": "markdown",
   "metadata": {},
   "source": [
    "<b>a) The top management of the distributing company feels it is obvious that Supply Center 1 should send all its\n",
    "available products to Customer 1. Is this necessarily so? (Hint. Obtain the least-cost solution to the problem.\n",
    "Explore whether alternative optimal solutions exist where not all the 300 units available in Supply Center 1 are\n",
    "assigned to Customer 1.)<b>\n"
   ]
  },
  {
   "cell_type": "markdown",
   "metadata": {},
   "source": [
    "<b>b) Assume Customer 2 is located in an area where all shipments will be subject to taxes defined as a percentage of\n",
    "the unit cost of a product. Will this tax affect the optimal solution of part (a)?<b>"
   ]
  },
  {
   "cell_type": "markdown",
   "metadata": {},
   "source": [
    "<b>c) Ignore part (b). What will be the optimal solution to the original problem if Supply Center 1 increases its product\n",
    "availability from 300 units to 400 units?<b>"
   ]
  },
  {
   "cell_type": "markdown",
   "metadata": {},
   "source": [
    "### Resposta"
   ]
  },
  {
   "cell_type": "code",
   "execution_count": 40,
   "metadata": {},
   "outputs": [],
   "source": [
    "using JuMP"
   ]
  },
  {
   "cell_type": "code",
   "execution_count": 41,
   "metadata": {},
   "outputs": [],
   "source": [
    "using GLPK"
   ]
  },
  {
   "cell_type": "markdown",
   "metadata": {},
   "source": [
    "### A)"
   ]
  },
  {
   "cell_type": "markdown",
   "metadata": {},
   "source": [
    "Utilizando a dica, modelaremos o problema para encontrar a solução ótima. Para isso criamos as variáveis $x_{ij}$ onde i=1,2,3 e j=1,2 que indicam a quantidade de produtos que saem do centro i com direção ao cliente j. Temos as restrições de máximo de produto disponível nos centros e demanda de cada cliente. Desa forma, temos:"
   ]
  },
  {
   "cell_type": "code",
   "execution_count": 39,
   "metadata": {},
   "outputs": [
    {
     "data": {
      "text/plain": [
       "5"
      ]
     },
     "execution_count": 39,
     "metadata": {},
     "output_type": "execute_result"
    }
   ],
   "source": [
    "dem1 = 800\n",
    "dem2 = 500\n",
    "\n",
    "max1 = 300\n",
    "max2 = 400\n",
    "max3 = 900\n",
    "\n",
    "custo11 = -1\n",
    "custo12 = 3\n",
    "custo21 = 1\n",
    "custo22 = 6\n",
    "custo31 = 1\n",
    "custo32 = 5"
   ]
  },
  {
   "cell_type": "markdown",
   "metadata": {},
   "source": [
    "min $\\sum_{i=1}^{3}\\sum_{j=1}^{2} x_{ij}\\cdot custo_{ij}$"
   ]
  },
  {
   "cell_type": "markdown",
   "metadata": {},
   "source": [
    "subject to"
   ]
  },
  {
   "cell_type": "markdown",
   "metadata": {},
   "source": [
    "$x_{11} + x_{12} \\leq max1$"
   ]
  },
  {
   "cell_type": "markdown",
   "metadata": {},
   "source": [
    "$x_{21} + x_{22} \\leq max2$"
   ]
  },
  {
   "cell_type": "markdown",
   "metadata": {},
   "source": [
    "$x_{31} + x_{32} \\leq max3$"
   ]
  },
  {
   "cell_type": "markdown",
   "metadata": {},
   "source": [
    "$x_{11} + x_{21} + x_{31} \\leq dem1$"
   ]
  },
  {
   "cell_type": "markdown",
   "metadata": {},
   "source": [
    "$x_{12} + x_{22} + x_{32} \\leq dem2$"
   ]
  },
  {
   "cell_type": "markdown",
   "metadata": {},
   "source": [
    "$x_{ij} \\geq 0 \\qquad  (i=1,2,3)(j=1,2)$"
   ]
  },
  {
   "cell_type": "markdown",
   "metadata": {},
   "source": [
    "$x_{ij}\\quad integer \\qquad(i=1,2,3)(j=1,2)$"
   ]
  },
  {
   "cell_type": "code",
   "execution_count": 46,
   "metadata": {},
   "outputs": [
    {
     "name": "stdout",
     "output_type": "stream",
     "text": [
      "Min -x[1,1] + x[2,1] + x[3,1] + 3 x[1,2] + 6 x[2,2] + 5 x[3,2]\n",
      "Subject to\n",
      " demanda_linha[1] : x[1,1] + x[2,1] + x[3,1] == 800.0\n",
      " demanda_linha[2] : x[1,2] + x[2,2] + x[3,2] == 500.0\n",
      " max_de_linha[1] : x[1,1] + x[1,2] <= 300.0\n",
      " max_de_linha[2] : x[2,1] + x[2,2] <= 400.0\n",
      " max_de_linha[3] : x[3,1] + x[3,2] <= 900.0\n",
      " x[1,1] >= 0.0\n",
      " x[2,1] >= 0.0\n",
      " x[3,1] >= 0.0\n",
      " x[1,2] >= 0.0\n",
      " x[2,2] >= 0.0\n",
      " x[3,2] >= 0.0\n",
      " x[1,1] integer\n",
      " x[2,1] integer\n",
      " x[3,1] integer\n",
      " x[1,2] integer\n",
      " x[2,2] integer\n",
      " x[3,2] integer\n"
     ]
    }
   ],
   "source": [
    "# Modelo e Solver\n",
    "model = Model(GLPK.Optimizer)\n",
    "\n",
    "# Variaveis, canalizações (ou caixas) e tipo\n",
    "@variable(model,x[1:3,1:2]>=0,Int)\n",
    "Q = [custo11 custo12;custo21 custo22;custo31 custo32] # 3x2\n",
    "max = [max1,max2,max3]\n",
    "dem = [dem1,dem2]\n",
    "\n",
    "# Restrições\n",
    "@constraint(model,max_de_linha[i=1:3],sum(x[i,:]) <= max[i])\n",
    "@constraint(model,demanda_linha[j=1:2],sum(x[:,j])==dem[j])\n",
    "\n",
    "# Função objetivo\n",
    "@objective(model,Min,sum(Q.*x))\n",
    "\n",
    "print(model)"
   ]
  },
  {
   "cell_type": "code",
   "execution_count": 47,
   "metadata": {},
   "outputs": [],
   "source": [
    "optimize!(model)"
   ]
  },
  {
   "cell_type": "code",
   "execution_count": 48,
   "metadata": {},
   "outputs": [
    {
     "data": {
      "text/plain": [
       "2700.0"
      ]
     },
     "execution_count": 48,
     "metadata": {},
     "output_type": "execute_result"
    }
   ],
   "source": [
    "objective_value(model)"
   ]
  },
  {
   "cell_type": "code",
   "execution_count": 49,
   "metadata": {},
   "outputs": [
    {
     "data": {
      "text/plain": [
       "3×2 Array{Float64,2}:\n",
       " 300.0    0.0\n",
       " 400.0    0.0\n",
       " 100.0  500.0"
      ]
     },
     "execution_count": 49,
     "metadata": {},
     "output_type": "execute_result"
    }
   ],
   "source": [
    "value.(x)"
   ]
  },
  {
   "cell_type": "markdown",
   "metadata": {},
   "source": [
    "Agora, fixamos que iremos enviar apenas 100 produtos do fornecedor 1 para o cliente 1:"
   ]
  },
  {
   "cell_type": "code",
   "execution_count": 50,
   "metadata": {},
   "outputs": [
    {
     "name": "stdout",
     "output_type": "stream",
     "text": [
      "Min -x[1,1] + x[2,1] + x[3,1] + 3 x[1,2] + 6 x[2,2] + 5 x[3,2]\n",
      "Subject to\n",
      " demanda_linha[1] : x[1,1] + x[2,1] + x[3,1] == 800.0\n",
      " demanda_linha[2] : x[1,2] + x[2,2] + x[3,2] == 500.0\n",
      " limite_x : x[1,1] == 100.0\n",
      " max_de_linha[1] : x[1,1] + x[1,2] <= 300.0\n",
      " max_de_linha[2] : x[2,1] + x[2,2] <= 400.0\n",
      " max_de_linha[3] : x[3,1] + x[3,2] <= 900.0\n",
      " x[1,1] >= 0.0\n",
      " x[2,1] >= 0.0\n",
      " x[3,1] >= 0.0\n",
      " x[1,2] >= 0.0\n",
      " x[2,2] >= 0.0\n",
      " x[3,2] >= 0.0\n",
      " x[1,1] integer\n",
      " x[2,1] integer\n",
      " x[3,1] integer\n",
      " x[1,2] integer\n",
      " x[2,2] integer\n",
      " x[3,2] integer\n"
     ]
    }
   ],
   "source": [
    "# Modelo e Solver\n",
    "model = Model(GLPK.Optimizer)\n",
    "\n",
    "# Variaveis, canalizações (ou caixas) e tipo\n",
    "@variable(model,x[1:3,1:2]>=0,Int)\n",
    "Q = [-1 3;1 6;1 5] # 3x2\n",
    "max = [max1,max2,max3]\n",
    "dem = [dem1,dem2]\n",
    "\n",
    "# Restrições\n",
    "@constraint(model,max_de_linha[i=1:3],sum(x[i,:]) <= max[i])\n",
    "@constraint(model,demanda_linha[j=1:2],sum(x[:,j])==dem[j])\n",
    "@constraint(model,limite_x,x[1,1]==100)\n",
    "\n",
    "# Função objetivo\n",
    "@objective(model,Min,sum(Q.*x))\n",
    "\n",
    "print(model)"
   ]
  },
  {
   "cell_type": "code",
   "execution_count": 51,
   "metadata": {},
   "outputs": [],
   "source": [
    "optimize!(model)"
   ]
  },
  {
   "cell_type": "code",
   "execution_count": 52,
   "metadata": {},
   "outputs": [
    {
     "data": {
      "text/plain": [
       "2700.0"
      ]
     },
     "execution_count": 52,
     "metadata": {},
     "output_type": "execute_result"
    }
   ],
   "source": [
    "objective_value(model)"
   ]
  },
  {
   "cell_type": "code",
   "execution_count": 53,
   "metadata": {},
   "outputs": [
    {
     "data": {
      "text/plain": [
       "3×2 Array{Float64,2}:\n",
       " 100.0  200.0\n",
       " 400.0    0.0\n",
       " 300.0  300.0"
      ]
     },
     "execution_count": 53,
     "metadata": {},
     "output_type": "execute_result"
    }
   ],
   "source": [
    "value.(x)"
   ]
  },
  {
   "cell_type": "markdown",
   "metadata": {},
   "source": [
    "### B)"
   ]
  },
  {
   "cell_type": "markdown",
   "metadata": {},
   "source": [
    "Supomos, nesse item, que o cliente 2 esteja em uma área tal que todos os envios estão sujeitos a uma taxa definida como porcentagem do custo de uma unidade. Definindo que, nesse local, temos uma taxa de 10%. Temos: "
   ]
  },
  {
   "cell_type": "code",
   "execution_count": 54,
   "metadata": {},
   "outputs": [
    {
     "data": {
      "text/plain": [
       "5.5"
      ]
     },
     "execution_count": 54,
     "metadata": {},
     "output_type": "execute_result"
    }
   ],
   "source": [
    "dem1 = 800\n",
    "dem2 = 500\n",
    "\n",
    "max1 = 300\n",
    "max2 = 400\n",
    "max3 = 900\n",
    "\n",
    "custo11 = -1\n",
    "custo12 = 3.3\n",
    "custo21 = 1\n",
    "custo22 = 6.6\n",
    "custo31 = 1\n",
    "custo32 = 5.5"
   ]
  },
  {
   "cell_type": "code",
   "execution_count": 55,
   "metadata": {},
   "outputs": [
    {
     "name": "stdout",
     "output_type": "stream",
     "text": [
      "Min -x[1,1] + x[2,1] + x[3,1] + 3.3 x[1,2] + 6.6 x[2,2] + 5.5 x[3,2]\n",
      "Subject to\n",
      " demanda_linha[1] : x[1,1] + x[2,1] + x[3,1] == 800.0\n",
      " demanda_linha[2] : x[1,2] + x[2,2] + x[3,2] == 500.0\n",
      " max_de_linha[1] : x[1,1] + x[1,2] <= 300.0\n",
      " max_de_linha[2] : x[2,1] + x[2,2] <= 400.0\n",
      " max_de_linha[3] : x[3,1] + x[3,2] <= 900.0\n",
      " x[1,1] >= 0.0\n",
      " x[2,1] >= 0.0\n",
      " x[3,1] >= 0.0\n",
      " x[1,2] >= 0.0\n",
      " x[2,2] >= 0.0\n",
      " x[3,2] >= 0.0\n",
      " x[1,1] integer\n",
      " x[2,1] integer\n",
      " x[3,1] integer\n",
      " x[1,2] integer\n",
      " x[2,2] integer\n",
      " x[3,2] integer\n"
     ]
    }
   ],
   "source": [
    "# Modelo e Solver\n",
    "model = Model(GLPK.Optimizer)\n",
    "\n",
    "# Variaveis, canalizações (ou caixas) e tipo\n",
    "@variable(model,x[1:3,1:2]>=0,Int)\n",
    "Q = [custo11 custo12;custo21 custo22;custo31 custo32] # 3x2\n",
    "max = [max1,max2,max3]\n",
    "dem = [dem1,dem2]\n",
    "\n",
    "# Restrições\n",
    "@constraint(model,max_de_linha[i=1:3],sum(x[i,:]) <= max[i])\n",
    "@constraint(model,demanda_linha[j=1:2],sum(x[:,j])==dem[j])\n",
    "\n",
    "# Função objetivo\n",
    "@objective(model,Min,sum(Q.*x))\n",
    "\n",
    "print(model)"
   ]
  },
  {
   "cell_type": "code",
   "execution_count": 56,
   "metadata": {},
   "outputs": [],
   "source": [
    "optimize!(model)"
   ]
  },
  {
   "cell_type": "code",
   "execution_count": 57,
   "metadata": {},
   "outputs": [
    {
     "data": {
      "text/plain": [
       "2890.0"
      ]
     },
     "execution_count": 57,
     "metadata": {},
     "output_type": "execute_result"
    }
   ],
   "source": [
    "objective_value(model)"
   ]
  },
  {
   "cell_type": "code",
   "execution_count": 58,
   "metadata": {},
   "outputs": [
    {
     "data": {
      "text/plain": [
       "3×2 Array{Float64,2}:\n",
       "   0.0  300.0\n",
       " 400.0    0.0\n",
       " 400.0  200.0"
      ]
     },
     "execution_count": 58,
     "metadata": {},
     "output_type": "execute_result"
    }
   ],
   "source": [
    "value.(x)"
   ]
  },
  {
   "cell_type": "markdown",
   "metadata": {},
   "source": [
    "### C)"
   ]
  },
  {
   "cell_type": "markdown",
   "metadata": {},
   "source": [
    "Supomos nesse item que o fornecedor 1 agora tem um máximo de 400 produtos disponíveis: "
   ]
  },
  {
   "cell_type": "code",
   "execution_count": 59,
   "metadata": {},
   "outputs": [
    {
     "data": {
      "text/plain": [
       "5"
      ]
     },
     "execution_count": 59,
     "metadata": {},
     "output_type": "execute_result"
    }
   ],
   "source": [
    "dem1 = 800\n",
    "dem2 = 500\n",
    "\n",
    "max1 = 400\n",
    "max2 = 400\n",
    "max3 = 900\n",
    "\n",
    "custo11 = -1\n",
    "custo12 = 3\n",
    "custo21 = 1\n",
    "custo22 = 6\n",
    "custo31 = 1\n",
    "custo32 = 5"
   ]
  },
  {
   "cell_type": "code",
   "execution_count": 60,
   "metadata": {},
   "outputs": [
    {
     "name": "stdout",
     "output_type": "stream",
     "text": [
      "Min -x[1,1] + x[2,1] + x[3,1] + 3 x[1,2] + 6 x[2,2] + 5 x[3,2]\n",
      "Subject to\n",
      " demanda_linha[1] : x[1,1] + x[2,1] + x[3,1] == 800.0\n",
      " demanda_linha[2] : x[1,2] + x[2,2] + x[3,2] == 500.0\n",
      " max_de_linha[1] : x[1,1] + x[1,2] <= 400.0\n",
      " max_de_linha[2] : x[2,1] + x[2,2] <= 400.0\n",
      " max_de_linha[3] : x[3,1] + x[3,2] <= 900.0\n",
      " x[1,1] >= 0.0\n",
      " x[2,1] >= 0.0\n",
      " x[3,1] >= 0.0\n",
      " x[1,2] >= 0.0\n",
      " x[2,2] >= 0.0\n",
      " x[3,2] >= 0.0\n",
      " x[1,1] integer\n",
      " x[2,1] integer\n",
      " x[3,1] integer\n",
      " x[1,2] integer\n",
      " x[2,2] integer\n",
      " x[3,2] integer\n"
     ]
    }
   ],
   "source": [
    "# Modelo e Solver\n",
    "model = Model(GLPK.Optimizer)\n",
    "\n",
    "# Variaveis, canalizações (ou caixas) e tipo\n",
    "@variable(model,x[1:3,1:2]>=0,Int)\n",
    "Q = [custo11 custo12;custo21 custo22;custo31 custo32] # 3x2\n",
    "max = [max1,max2,max3]\n",
    "dem = [dem1,dem2]\n",
    "\n",
    "# Restrições\n",
    "@constraint(model,max_de_linha[i=1:3],sum(x[i,:]) <= max[i])\n",
    "@constraint(model,demanda_linha[j=1:2],sum(x[:,j])==dem[j])\n",
    "\n",
    "# Função objetivo\n",
    "@objective(model,Min,sum(Q.*x))\n",
    "\n",
    "print(model)"
   ]
  },
  {
   "cell_type": "code",
   "execution_count": 61,
   "metadata": {},
   "outputs": [],
   "source": [
    "optimize!(model)"
   ]
  },
  {
   "cell_type": "code",
   "execution_count": 62,
   "metadata": {},
   "outputs": [
    {
     "data": {
      "text/plain": [
       "2500.0"
      ]
     },
     "execution_count": 62,
     "metadata": {},
     "output_type": "execute_result"
    }
   ],
   "source": [
    "objective_value(model)"
   ]
  },
  {
   "cell_type": "code",
   "execution_count": 63,
   "metadata": {},
   "outputs": [
    {
     "data": {
      "text/plain": [
       "3×2 Array{Float64,2}:\n",
       " 400.0    0.0\n",
       " 400.0    0.0\n",
       "   0.0  500.0"
      ]
     },
     "execution_count": 63,
     "metadata": {},
     "output_type": "execute_result"
    }
   ],
   "source": [
    "value.(x)"
   ]
  }
 ],
 "metadata": {
  "kernelspec": {
   "display_name": "Julia 1.0.5",
   "language": "julia",
   "name": "julia-1.0"
  },
  "language_info": {
   "file_extension": ".jl",
   "mimetype": "application/julia",
   "name": "julia",
   "version": "1.0.5"
  }
 },
 "nbformat": 4,
 "nbformat_minor": 4
}
